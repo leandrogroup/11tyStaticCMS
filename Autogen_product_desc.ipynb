{
  "nbformat": 4,
  "nbformat_minor": 0,
  "metadata": {
    "colab": {
      "provenance": [],
      "authorship_tag": "ABX9TyNXdMBvkT2/ocmCqxmymEsh",
      "include_colab_link": true
    },
    "kernelspec": {
      "name": "python3",
      "display_name": "Python 3"
    },
    "language_info": {
      "name": "python"
    }
  },
  "cells": [
    {
      "cell_type": "markdown",
      "metadata": {
        "id": "view-in-github",
        "colab_type": "text"
      },
      "source": [
        "<a href=\"https://colab.research.google.com/github/leandrogroup/11tyStaticCMS/blob/main/Autogen_product_desc.ipynb\" target=\"_parent\"><img src=\"https://colab.research.google.com/assets/colab-badge.svg\" alt=\"Open In Colab\"/></a>"
      ]
    },
    {
      "cell_type": "markdown",
      "source": [
        "Several years ago, in one of my first Ecommerce Director roles, I worked with the ex-Myprotein founder to launch sports nutrition brand GoNutrition. As a “bootstrapped” startup, we were low on numbers, so we all handled various tasks, with me taking on the copywriting.\n",
        "\n",
        "Keen to improve the site’s conversion rate after launch, I ran an A/B test based on my hypothesis that dumbed-down and more accessible product copy might lead to more sales. To run the test, I had to re-write dozens of product descriptions. This me took days, partly because the gym is not my natural habitat, and protein powders are not my normal sustenance…\n",
        "\n",
        "On a larger site, this sort of rewriting or text summarising task could easily take weeks or months. I did this rewriting by hand, but if I were tackling the same task today, I’d consider using a deep learning Transformer model to semi-automate the process instead.\n",
        "\n",
        "In this project, I’ll show you how effective this is, by using the Bart model to automatically generate short product summaries from some of the original product copy I created."
      ],
      "metadata": {
        "id": "WAUyZ-_DvFuO"
      }
    },
    {
      "cell_type": "markdown",
      "source": [
        "Load the packages\n",
        "\n",
        "Open a new Jupyter notebook and import the pandas and transformers packages. You’ll likely need to install Transformers, which you can do via PyPi by entering !pip3 install transformers in your terminal. To see more of the text in our dataframe I’ve also set max_colwidth to 150."
      ],
      "metadata": {
        "id": "aXeLnlp5vLGj"
      }
    },
    {
      "cell_type": "code",
      "execution_count": null,
      "metadata": {
        "id": "fkPzi_zrIOoh"
      },
      "outputs": [],
      "source": [
        "!pip install pandas\n",
        "!pip install transformers\n",
        "\n",
        "import pandas as pd\n",
        "from transformers import pipeline\n",
        "\n",
        "pd.set_option('max_colwidth', 150)"
      ]
    },
    {
      "cell_type": "markdown",
      "source": [
        "Load the Transformer pipeline\n",
        "\n",
        "Next, we’ll load the summarization pipeline from Hugging Face. This downloads a massive 1.3 GB pre-trained model for text summarisation which uses Bart, a “denoising autoencoder” model developed in 2019 by Mike Lewis and co-authors.\n",
        "\n",
        "This one line will download and setup our Bart transformer so it’s ready to handle text summarisation out-of-the-box. Building a model like this yourself would take an enormous dataset, a supercomputer, loads of powerful GPUs, and months of your time."
      ],
      "metadata": {
        "id": "D144rEWEvPKh"
      }
    },
    {
      "cell_type": "code",
      "source": [
        "summarizer = pipeline(\"summarization\")"
      ],
      "metadata": {
        "id": "gnbDLZrvpGMl"
      },
      "execution_count": null,
      "outputs": []
    },
    {
      "cell_type": "markdown",
      "source": [
        "Load the data\n",
        "\n",
        "Now the model is ready, we can import our data. I’ve created a miniature dataset based on some of the original product descriptions I wrote for GoNutrition when I worked there. These aim to explain the features and benefits of a range of protein powders and pre-workout supplements to gym goers with various levels of sports nutrition expertise."
      ],
      "metadata": {
        "id": "V5mUeY7rvXwP"
      }
    },
    {
      "cell_type": "code",
      "source": [
        "df = pd.read_csv('gonutrition2.csv')\n",
        "df.head()"
      ],
      "metadata": {
        "id": "MEqMVxWspPYC"
      },
      "execution_count": null,
      "outputs": []
    },
    {
      "cell_type": "markdown",
      "source": [
        "Extract a product description\n",
        "\n",
        "To see what we’re giving the model to work with, let’s take a look at the product description for Whey Protein Isolate. This is quite a long and technical description (something required in this market), but we need to truncate it to the first 1024 characters as the model expects data of this size and no larger."
      ],
      "metadata": {
        "id": "le9tgoOSvdh5"
      }
    },
    {
      "cell_type": "code",
      "source": [
        "text = df['product_description'][0]\n",
        "truncated_text = text[:1024]\n",
        "truncated_text"
      ],
      "metadata": {
        "colab": {
          "base_uri": "https://localhost:8080/",
          "height": 107
        },
        "id": "4HPmNmEvpyd6",
        "outputId": "745a86b2-b25a-4c8b-eebc-6b5f09a2eab1"
      },
      "execution_count": 11,
      "outputs": [
        {
          "output_type": "execute_result",
          "data": {
            "text/plain": [
              "\"Are you preparing to post something abroad with Royal Mail's International services? We can help you to ensure you've got the right all the right packaging, documents and labelling needed to get your postage to its' destination smoothly! For items sent with Royal Mail International Standard (except those posted in Northern Ireland bound for the Republic of Ireland) need an Air Mail sticker in the top left corner on the front of the item.&nbsp; These distinctive little blue labels are available in English and Welsh in various quantities from 18 to 180 stickers. Features:  Royal Mail International By Air Mail stickers Available in English and Welsh, in quantities of 18 to 180 stickers 36 labels per sheet Label size:  Width: 15mm Length: 40mm    &nbsp;\""
            ],
            "application/vnd.google.colaboratory.intrinsic+json": {
              "type": "string"
            }
          },
          "metadata": {},
          "execution_count": 11
        }
      ]
    },
    {
      "cell_type": "markdown",
      "source": [
        "Generate a summary of the product description\n",
        "\n",
        "Next, we’ll generate a couple of product summaries. In the first one, I’ve set do_sample to True, so the Bart model extracts relevant snippets from the text from which to construct its summary. To tidy up the text and remove some formatting issues I’ve used strip() and replace()."
      ],
      "metadata": {
        "id": "qnqeSo92vwrE"
      }
    },
    {
      "cell_type": "code",
      "source": [
        "summary = summarizer(truncated_text, min_length=50, max_length=100, do_sample=True)\n",
        "summary[0]['summary_text'].strip().replace(' .', '.')"
      ],
      "metadata": {
        "colab": {
          "base_uri": "https://localhost:8080/",
          "height": 53
        },
        "id": "HU_wNWBctcr4",
        "outputId": "bc557dd6-cac7-4133-981b-0fce29d53688"
      },
      "execution_count": 12,
      "outputs": [
        {
          "output_type": "execute_result",
          "data": {
            "text/plain": [
              "'Royal Mail International By Air Mail stickers are available in English and Welsh. Available in quantities of 18 to 180 stickers per sheet. 36 labels per sheet and size of 15mm width: 15mm length: 40mm. Available only for items posted in Northern Ireland bound for the Republic of Ireland.'"
            ],
            "application/vnd.google.colaboratory.intrinsic+json": {
              "type": "string"
            }
          },
          "metadata": {},
          "execution_count": 12
        }
      ]
    },
    {
      "cell_type": "markdown",
      "source": [
        "The other approach we can use with the Bart transformer model is to create a text summary from completely unique text. Here, we’ll set do_sample to False and Bart will read the text, understand it, pick out the key points, and then write a short text summary in its own words."
      ],
      "metadata": {
        "id": "oCjXPIJ6tz5J"
      }
    },
    {
      "cell_type": "code",
      "source": [
        "summary = summarizer(truncated_text, min_length=50, max_length=100, do_sample=False)\n",
        "summary[0]['summary_text'].strip().replace(' .', '.')"
      ],
      "metadata": {
        "colab": {
          "base_uri": "https://localhost:8080/",
          "height": 53
        },
        "id": "qt3k7QFyt6qr",
        "outputId": "452798a8-c549-4d44-dc77-e399555556b3"
      },
      "execution_count": 13,
      "outputs": [
        {
          "output_type": "execute_result",
          "data": {
            "text/plain": [
              "'Royal Mail International By Air Mail stickers are available in English and Welsh. Available in quantities of 18 to 180 stickers, 36 labels per sheet. Label size:  Width: 15mm Length: 40mm. Available only for items posted in Northern Ireland bound for the Republic of Ireland.'"
            ],
            "application/vnd.google.colaboratory.intrinsic+json": {
              "type": "string"
            }
          },
          "metadata": {},
          "execution_count": 13
        }
      ]
    },
    {
      "cell_type": "markdown",
      "source": [
        "Generate summaries for all products\n",
        "\n",
        "Finally, we can put this all together and create a function to run the model on each of the product descriptions in our original dataframe and generate a bespoke product summary. This takes just a second or two per product!"
      ],
      "metadata": {
        "id": "BvpJjyfZuDLx"
      }
    },
    {
      "cell_type": "code",
      "source": [
        "def get_summary(text, min_length=50, max_length=100, do_sample=False):\n",
        "\n",
        "    summary = summarizer(text[:1024],\n",
        "                         min_length=min_length,\n",
        "                         max_length=max_length,\n",
        "                         do_sample=do_sample)\n",
        "    summary_text = summary[0]['summary_text'].strip().replace(' .', '.')\n",
        "\n",
        "    return summary_text\n",
        "\n",
        "df['product_summary'] = df.apply(lambda x: get_summary(x.product_description), axis=1)"
      ],
      "metadata": {
        "colab": {
          "base_uri": "https://localhost:8080/"
        },
        "id": "jfNTPBZZuLpj",
        "outputId": "fbc0938f-bd45-4564-8c71-c9d0f707bd38"
      },
      "execution_count": null,
      "outputs": [
        {
          "output_type": "stream",
          "name": "stderr",
          "text": [
            "Your max_length is set to 100, but your input_length is only 95. Since this is a summarization task, where outputs shorter than the input are typically wanted, you might consider decreasing max_length manually, e.g. summarizer('...', max_length=47)\n",
            "Your max_length is set to 100, but your input_length is only 82. Since this is a summarization task, where outputs shorter than the input are typically wanted, you might consider decreasing max_length manually, e.g. summarizer('...', max_length=41)\n",
            "Your max_length is set to 100, but your input_length is only 85. Since this is a summarization task, where outputs shorter than the input are typically wanted, you might consider decreasing max_length manually, e.g. summarizer('...', max_length=42)\n",
            "Your max_length is set to 100, but your input_length is only 38. Since this is a summarization task, where outputs shorter than the input are typically wanted, you might consider decreasing max_length manually, e.g. summarizer('...', max_length=19)\n",
            "Your max_length is set to 100, but your input_length is only 31. Since this is a summarization task, where outputs shorter than the input are typically wanted, you might consider decreasing max_length manually, e.g. summarizer('...', max_length=15)\n",
            "Your max_length is set to 100, but your input_length is only 83. Since this is a summarization task, where outputs shorter than the input are typically wanted, you might consider decreasing max_length manually, e.g. summarizer('...', max_length=41)\n",
            "Your max_length is set to 100, but your input_length is only 99. Since this is a summarization task, where outputs shorter than the input are typically wanted, you might consider decreasing max_length manually, e.g. summarizer('...', max_length=49)\n",
            "Your max_length is set to 100, but your input_length is only 77. Since this is a summarization task, where outputs shorter than the input are typically wanted, you might consider decreasing max_length manually, e.g. summarizer('...', max_length=38)\n",
            "Your max_length is set to 100, but your input_length is only 96. Since this is a summarization task, where outputs shorter than the input are typically wanted, you might consider decreasing max_length manually, e.g. summarizer('...', max_length=48)\n",
            "Your max_length is set to 100, but your input_length is only 87. Since this is a summarization task, where outputs shorter than the input are typically wanted, you might consider decreasing max_length manually, e.g. summarizer('...', max_length=43)\n",
            "Your max_length is set to 100, but your input_length is only 56. Since this is a summarization task, where outputs shorter than the input are typically wanted, you might consider decreasing max_length manually, e.g. summarizer('...', max_length=28)\n",
            "Your max_length is set to 100, but your input_length is only 78. Since this is a summarization task, where outputs shorter than the input are typically wanted, you might consider decreasing max_length manually, e.g. summarizer('...', max_length=39)\n",
            "Your max_length is set to 100, but your input_length is only 89. Since this is a summarization task, where outputs shorter than the input are typically wanted, you might consider decreasing max_length manually, e.g. summarizer('...', max_length=44)\n",
            "Your max_length is set to 100, but your input_length is only 87. Since this is a summarization task, where outputs shorter than the input are typically wanted, you might consider decreasing max_length manually, e.g. summarizer('...', max_length=43)\n",
            "Your max_length is set to 100, but your input_length is only 57. Since this is a summarization task, where outputs shorter than the input are typically wanted, you might consider decreasing max_length manually, e.g. summarizer('...', max_length=28)\n",
            "Your max_length is set to 100, but your input_length is only 75. Since this is a summarization task, where outputs shorter than the input are typically wanted, you might consider decreasing max_length manually, e.g. summarizer('...', max_length=37)\n",
            "Your max_length is set to 100, but your input_length is only 72. Since this is a summarization task, where outputs shorter than the input are typically wanted, you might consider decreasing max_length manually, e.g. summarizer('...', max_length=36)\n",
            "Your max_length is set to 100, but your input_length is only 83. Since this is a summarization task, where outputs shorter than the input are typically wanted, you might consider decreasing max_length manually, e.g. summarizer('...', max_length=41)\n"
          ]
        }
      ]
    },
    {
      "cell_type": "markdown",
      "source": [
        "**Examine the results**\n",
        "\n",
        "After the model has run, we can inspect the product_summary we stored back in the original dataframe. These are slightly truncated in the dataframe, so we’ll also look at them individually to see how well the model compares to a human copywriter."
      ],
      "metadata": {
        "id": "3OhZsCRouoVe"
      }
    },
    {
      "cell_type": "code",
      "source": [
        "df = df[['product_name', 'product_summary']]\n",
        "df.head()"
      ],
      "metadata": {
        "id": "kLQzzTQRur6O"
      },
      "execution_count": null,
      "outputs": []
    }
  ]
}